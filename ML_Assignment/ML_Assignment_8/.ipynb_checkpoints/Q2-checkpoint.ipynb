{
 "cells": [
  {
   "cell_type": "markdown",
   "id": "2097bfa4-c5d4-4321-b04d-527f4075a201",
   "metadata": {},
   "source": [
    "### Que2.-\n"
   ]
  },
  {
   "cell_type": "markdown",
   "id": "9f10dcb3-1eb1-4b9b-a495-19f011d81e2e",
   "metadata": {},
   "source": [
    "In this dataset you have to predict that whether we have to give ATTORNEY to the clients or not (0=Yes, 1=No) based on below factors.\n",
    "\n",
    "CLMAGE - Age of Client\n",
    "\n",
    "CLMSEX - Sex of client (0=Male, 1= Female)\n",
    "\n",
    "SEATBELT - Whether client has Seatbelt or not (0=Yes, 1=No)\n",
    "\n",
    "CLMINSUR - Whether Client give Insurance or not (0=Yes, 1=No)\n",
    "\n",
    "LOSS - Loss that client faced\n",
    "\n",
    "Prepare model by using Decision Tree, Random Forest, CatBoost, XGBoost & Also calculate Accuracy by confusion matrix, Calculate accuracy score, precision score, recall score, f1 score,precision, recall.\n",
    "\n",
    "Dataset : Claimants.csv\n"
   ]
  },
  {
   "cell_type": "code",
   "execution_count": 47,
   "id": "9aa181a6-2d4b-477c-a2a1-df3fa7a92f03",
   "metadata": {},
   "outputs": [],
   "source": [
    "import numpy as mp\n",
    "import pandas as pd\n",
    "import matplotlib.pyplot as plt\n",
    "import seaborn as sns"
   ]
  },
  {
   "cell_type": "code",
   "execution_count": 48,
   "id": "656efd6c-3e96-42e8-92b1-13623b5f7e28",
   "metadata": {},
   "outputs": [
    {
     "data": {
      "text/html": [
       "<div>\n",
       "<style scoped>\n",
       "    .dataframe tbody tr th:only-of-type {\n",
       "        vertical-align: middle;\n",
       "    }\n",
       "\n",
       "    .dataframe tbody tr th {\n",
       "        vertical-align: top;\n",
       "    }\n",
       "\n",
       "    .dataframe thead th {\n",
       "        text-align: right;\n",
       "    }\n",
       "</style>\n",
       "<table border=\"1\" class=\"dataframe\">\n",
       "  <thead>\n",
       "    <tr style=\"text-align: right;\">\n",
       "      <th></th>\n",
       "      <th>ATTORNEY</th>\n",
       "      <th>CLMSEX</th>\n",
       "      <th>CLMINSUR</th>\n",
       "      <th>SEATBELT</th>\n",
       "      <th>CLMAGE</th>\n",
       "      <th>LOSS</th>\n",
       "    </tr>\n",
       "  </thead>\n",
       "  <tbody>\n",
       "    <tr>\n",
       "      <th>0</th>\n",
       "      <td>0</td>\n",
       "      <td>0.0</td>\n",
       "      <td>1.0</td>\n",
       "      <td>0.0</td>\n",
       "      <td>50.0</td>\n",
       "      <td>34.940</td>\n",
       "    </tr>\n",
       "    <tr>\n",
       "      <th>1</th>\n",
       "      <td>1</td>\n",
       "      <td>1.0</td>\n",
       "      <td>0.0</td>\n",
       "      <td>0.0</td>\n",
       "      <td>18.0</td>\n",
       "      <td>0.891</td>\n",
       "    </tr>\n",
       "    <tr>\n",
       "      <th>2</th>\n",
       "      <td>1</td>\n",
       "      <td>0.0</td>\n",
       "      <td>1.0</td>\n",
       "      <td>0.0</td>\n",
       "      <td>5.0</td>\n",
       "      <td>0.330</td>\n",
       "    </tr>\n",
       "    <tr>\n",
       "      <th>3</th>\n",
       "      <td>0</td>\n",
       "      <td>0.0</td>\n",
       "      <td>1.0</td>\n",
       "      <td>1.0</td>\n",
       "      <td>31.0</td>\n",
       "      <td>0.037</td>\n",
       "    </tr>\n",
       "    <tr>\n",
       "      <th>4</th>\n",
       "      <td>1</td>\n",
       "      <td>0.0</td>\n",
       "      <td>1.0</td>\n",
       "      <td>0.0</td>\n",
       "      <td>30.0</td>\n",
       "      <td>0.038</td>\n",
       "    </tr>\n",
       "    <tr>\n",
       "      <th>...</th>\n",
       "      <td>...</td>\n",
       "      <td>...</td>\n",
       "      <td>...</td>\n",
       "      <td>...</td>\n",
       "      <td>...</td>\n",
       "      <td>...</td>\n",
       "    </tr>\n",
       "    <tr>\n",
       "      <th>1335</th>\n",
       "      <td>1</td>\n",
       "      <td>0.0</td>\n",
       "      <td>1.0</td>\n",
       "      <td>0.0</td>\n",
       "      <td>NaN</td>\n",
       "      <td>0.576</td>\n",
       "    </tr>\n",
       "    <tr>\n",
       "      <th>1336</th>\n",
       "      <td>0</td>\n",
       "      <td>1.0</td>\n",
       "      <td>1.0</td>\n",
       "      <td>0.0</td>\n",
       "      <td>46.0</td>\n",
       "      <td>3.705</td>\n",
       "    </tr>\n",
       "    <tr>\n",
       "      <th>1337</th>\n",
       "      <td>1</td>\n",
       "      <td>1.0</td>\n",
       "      <td>1.0</td>\n",
       "      <td>0.0</td>\n",
       "      <td>39.0</td>\n",
       "      <td>0.099</td>\n",
       "    </tr>\n",
       "    <tr>\n",
       "      <th>1338</th>\n",
       "      <td>0</td>\n",
       "      <td>1.0</td>\n",
       "      <td>0.0</td>\n",
       "      <td>0.0</td>\n",
       "      <td>8.0</td>\n",
       "      <td>3.177</td>\n",
       "    </tr>\n",
       "    <tr>\n",
       "      <th>1339</th>\n",
       "      <td>1</td>\n",
       "      <td>1.0</td>\n",
       "      <td>1.0</td>\n",
       "      <td>0.0</td>\n",
       "      <td>30.0</td>\n",
       "      <td>0.688</td>\n",
       "    </tr>\n",
       "  </tbody>\n",
       "</table>\n",
       "<p>1340 rows × 6 columns</p>\n",
       "</div>"
      ],
      "text/plain": [
       "      ATTORNEY  CLMSEX  CLMINSUR  SEATBELT  CLMAGE    LOSS\n",
       "0            0     0.0       1.0       0.0    50.0  34.940\n",
       "1            1     1.0       0.0       0.0    18.0   0.891\n",
       "2            1     0.0       1.0       0.0     5.0   0.330\n",
       "3            0     0.0       1.0       1.0    31.0   0.037\n",
       "4            1     0.0       1.0       0.0    30.0   0.038\n",
       "...        ...     ...       ...       ...     ...     ...\n",
       "1335         1     0.0       1.0       0.0     NaN   0.576\n",
       "1336         0     1.0       1.0       0.0    46.0   3.705\n",
       "1337         1     1.0       1.0       0.0    39.0   0.099\n",
       "1338         0     1.0       0.0       0.0     8.0   3.177\n",
       "1339         1     1.0       1.0       0.0    30.0   0.688\n",
       "\n",
       "[1340 rows x 6 columns]"
      ]
     },
     "execution_count": 48,
     "metadata": {},
     "output_type": "execute_result"
    }
   ],
   "source": [
    "df = pd.read_csv('claimants.csv')\n",
    "df"
   ]
  },
  {
   "cell_type": "code",
   "execution_count": 49,
   "id": "48029659-5d6f-44cc-a0b7-ca08cdc3f0a0",
   "metadata": {},
   "outputs": [
    {
     "name": "stdout",
     "output_type": "stream",
     "text": [
      "<class 'pandas.core.frame.DataFrame'>\n",
      "RangeIndex: 1340 entries, 0 to 1339\n",
      "Data columns (total 6 columns):\n",
      " #   Column    Non-Null Count  Dtype  \n",
      "---  ------    --------------  -----  \n",
      " 0   ATTORNEY  1340 non-null   int64  \n",
      " 1   CLMSEX    1328 non-null   float64\n",
      " 2   CLMINSUR  1299 non-null   float64\n",
      " 3   SEATBELT  1292 non-null   float64\n",
      " 4   CLMAGE    1151 non-null   float64\n",
      " 5   LOSS      1340 non-null   float64\n",
      "dtypes: float64(5), int64(1)\n",
      "memory usage: 62.9 KB\n"
     ]
    }
   ],
   "source": [
    "df.info()"
   ]
  },
  {
   "cell_type": "code",
   "execution_count": 50,
   "id": "3413e418-bf0b-4be8-8084-5d107bc740ae",
   "metadata": {},
   "outputs": [
    {
     "data": {
      "text/plain": [
       "ATTORNEY      0\n",
       "CLMSEX       12\n",
       "CLMINSUR     41\n",
       "SEATBELT     48\n",
       "CLMAGE      189\n",
       "LOSS          0\n",
       "dtype: int64"
      ]
     },
     "execution_count": 50,
     "metadata": {},
     "output_type": "execute_result"
    }
   ],
   "source": [
    "df.isna().sum()"
   ]
  },
  {
   "cell_type": "code",
   "execution_count": 51,
   "id": "eaa95b0b-6d66-4415-88b7-923abb848e2f",
   "metadata": {},
   "outputs": [
    {
     "data": {
      "text/plain": [
       "ATTORNEY    0\n",
       "CLMSEX      0\n",
       "CLMINSUR    0\n",
       "SEATBELT    0\n",
       "CLMAGE      0\n",
       "LOSS        0\n",
       "dtype: int64"
      ]
     },
     "execution_count": 51,
     "metadata": {},
     "output_type": "execute_result"
    }
   ],
   "source": [
    "df1 = df.dropna()\n",
    "df1.isna().sum()"
   ]
  },
  {
   "cell_type": "code",
   "execution_count": 52,
   "id": "d2e90cd2-ce82-4105-b3cb-ca1602e9399a",
   "metadata": {},
   "outputs": [
    {
     "data": {
      "text/html": [
       "<div>\n",
       "<style scoped>\n",
       "    .dataframe tbody tr th:only-of-type {\n",
       "        vertical-align: middle;\n",
       "    }\n",
       "\n",
       "    .dataframe tbody tr th {\n",
       "        vertical-align: top;\n",
       "    }\n",
       "\n",
       "    .dataframe thead th {\n",
       "        text-align: right;\n",
       "    }\n",
       "</style>\n",
       "<table border=\"1\" class=\"dataframe\">\n",
       "  <thead>\n",
       "    <tr style=\"text-align: right;\">\n",
       "      <th></th>\n",
       "      <th>ATTORNEY</th>\n",
       "      <th>CLMSEX</th>\n",
       "      <th>CLMINSUR</th>\n",
       "      <th>SEATBELT</th>\n",
       "      <th>CLMAGE</th>\n",
       "      <th>LOSS</th>\n",
       "    </tr>\n",
       "  </thead>\n",
       "  <tbody>\n",
       "    <tr>\n",
       "      <th>ATTORNEY</th>\n",
       "      <td>1.000000</td>\n",
       "      <td>0.079674</td>\n",
       "      <td>0.079439</td>\n",
       "      <td>-0.057189</td>\n",
       "      <td>0.010680</td>\n",
       "      <td>-0.219715</td>\n",
       "    </tr>\n",
       "    <tr>\n",
       "      <th>CLMSEX</th>\n",
       "      <td>0.079674</td>\n",
       "      <td>1.000000</td>\n",
       "      <td>0.066413</td>\n",
       "      <td>-0.015024</td>\n",
       "      <td>-0.023195</td>\n",
       "      <td>-0.027611</td>\n",
       "    </tr>\n",
       "    <tr>\n",
       "      <th>CLMINSUR</th>\n",
       "      <td>0.079439</td>\n",
       "      <td>0.066413</td>\n",
       "      <td>1.000000</td>\n",
       "      <td>0.021154</td>\n",
       "      <td>0.049493</td>\n",
       "      <td>0.005821</td>\n",
       "    </tr>\n",
       "    <tr>\n",
       "      <th>SEATBELT</th>\n",
       "      <td>-0.057189</td>\n",
       "      <td>-0.015024</td>\n",
       "      <td>0.021154</td>\n",
       "      <td>1.000000</td>\n",
       "      <td>-0.027992</td>\n",
       "      <td>0.111189</td>\n",
       "    </tr>\n",
       "    <tr>\n",
       "      <th>CLMAGE</th>\n",
       "      <td>0.010680</td>\n",
       "      <td>-0.023195</td>\n",
       "      <td>0.049493</td>\n",
       "      <td>-0.027992</td>\n",
       "      <td>1.000000</td>\n",
       "      <td>0.064612</td>\n",
       "    </tr>\n",
       "    <tr>\n",
       "      <th>LOSS</th>\n",
       "      <td>-0.219715</td>\n",
       "      <td>-0.027611</td>\n",
       "      <td>0.005821</td>\n",
       "      <td>0.111189</td>\n",
       "      <td>0.064612</td>\n",
       "      <td>1.000000</td>\n",
       "    </tr>\n",
       "  </tbody>\n",
       "</table>\n",
       "</div>"
      ],
      "text/plain": [
       "          ATTORNEY    CLMSEX  CLMINSUR  SEATBELT    CLMAGE      LOSS\n",
       "ATTORNEY  1.000000  0.079674  0.079439 -0.057189  0.010680 -0.219715\n",
       "CLMSEX    0.079674  1.000000  0.066413 -0.015024 -0.023195 -0.027611\n",
       "CLMINSUR  0.079439  0.066413  1.000000  0.021154  0.049493  0.005821\n",
       "SEATBELT -0.057189 -0.015024  0.021154  1.000000 -0.027992  0.111189\n",
       "CLMAGE    0.010680 -0.023195  0.049493 -0.027992  1.000000  0.064612\n",
       "LOSS     -0.219715 -0.027611  0.005821  0.111189  0.064612  1.000000"
      ]
     },
     "execution_count": 52,
     "metadata": {},
     "output_type": "execute_result"
    }
   ],
   "source": [
    "df.corr()"
   ]
  },
  {
   "cell_type": "code",
   "execution_count": 53,
   "id": "83518ebf-3569-4655-81de-bf43fb505283",
   "metadata": {},
   "outputs": [],
   "source": [
    "X = df1.drop('ATTORNEY', axis = 1)\n",
    "Y = df1['ATTORNEY']"
   ]
  },
  {
   "cell_type": "code",
   "execution_count": 54,
   "id": "99002aff-e3e6-4913-94ed-04fd370e5d22",
   "metadata": {},
   "outputs": [],
   "source": [
    "from sklearn.model_selection import train_test_split\n",
    "\n",
    "x_train, x_test, y_train, y_test = train_test_split(X, Y, test_size = 0.33)"
   ]
  },
  {
   "cell_type": "markdown",
   "id": "f7caabdd-335a-4e9c-b7d3-7c5fd4d0f3ec",
   "metadata": {},
   "source": [
    "### Models"
   ]
  },
  {
   "cell_type": "code",
   "execution_count": 55,
   "id": "65a9a61a-22b5-4f3f-8cbf-0c3e74802335",
   "metadata": {},
   "outputs": [],
   "source": [
    "def Decision_Tree():\n",
    "    from sklearn.tree import DecisionTreeClassifier\n",
    "    model = DecisionTreeClassifier()\n",
    "    model.fit(x_train, y_train)\n",
    "    return model\n"
   ]
  },
  {
   "cell_type": "code",
   "execution_count": 56,
   "id": "10f58781-cc64-4c63-bd1c-f9925d94d5ac",
   "metadata": {},
   "outputs": [],
   "source": [
    "def Random_Forest():\n",
    "    from sklearn.ensemble import RandomForestClassifier\n",
    "    model = RandomForestClassifier(n_estimators=101)\n",
    "    model.fit(x_train, y_train)\n",
    "    return model\n"
   ]
  },
  {
   "cell_type": "code",
   "execution_count": 103,
   "id": "10142c7a-694c-4ce9-aeac-db54122a8527",
   "metadata": {},
   "outputs": [],
   "source": [
    "def CatBoost():\n",
    "    from catboost import CatBoostClassifier\n",
    "    # create a model\n",
    "    model = CatBoostClassifier(iterations=111, \n",
    "                               learning_rate=1, \n",
    "                               loss_function='Logloss',\n",
    "                               verbose=True)\n",
    "      # train the model\n",
    "    model.fit(x_train, y_train)\n",
    "    return model"
   ]
  },
  {
   "cell_type": "code",
   "execution_count": 104,
   "id": "b7b55711-26a6-413f-8938-98d26f9c585f",
   "metadata": {},
   "outputs": [],
   "source": [
    "def XGBoost():\n",
    "    from xgboost import XGBClassifier\n",
    "    model = XGBClassifier()\n",
    "    model.fit(x_train, y_train)\n",
    "    return model"
   ]
  },
  {
   "cell_type": "code",
   "execution_count": 105,
   "id": "10eab174-ae42-4a41-a808-b43e8b9cecea",
   "metadata": {},
   "outputs": [
    {
     "name": "stdout",
     "output_type": "stream",
     "text": [
      "0:\tlearn: 0.5850558\ttotal: 439us\tremaining: 48.3ms\n",
      "1:\tlearn: 0.5552915\ttotal: 925us\tremaining: 50.4ms\n",
      "2:\tlearn: 0.5443612\ttotal: 1.22ms\tremaining: 44.1ms\n",
      "3:\tlearn: 0.5400014\ttotal: 1.52ms\tremaining: 40.8ms\n",
      "4:\tlearn: 0.5343209\ttotal: 1.85ms\tremaining: 39.3ms\n",
      "5:\tlearn: 0.5285586\ttotal: 2.02ms\tremaining: 35.3ms\n",
      "6:\tlearn: 0.5207483\ttotal: 2.32ms\tremaining: 34.4ms\n",
      "7:\tlearn: 0.5137538\ttotal: 2.57ms\tremaining: 33.2ms\n",
      "8:\tlearn: 0.5059376\ttotal: 2.9ms\tremaining: 32.8ms\n",
      "9:\tlearn: 0.4973164\ttotal: 3.21ms\tremaining: 32.5ms\n",
      "10:\tlearn: 0.4871404\ttotal: 3.5ms\tremaining: 31.8ms\n",
      "11:\tlearn: 0.4773424\ttotal: 3.82ms\tremaining: 31.5ms\n",
      "12:\tlearn: 0.4654519\ttotal: 4.13ms\tremaining: 31.2ms\n",
      "13:\tlearn: 0.4577856\ttotal: 4.42ms\tremaining: 30.6ms\n",
      "14:\tlearn: 0.4530293\ttotal: 4.71ms\tremaining: 30.1ms\n",
      "15:\tlearn: 0.4501432\ttotal: 4.97ms\tremaining: 29.5ms\n",
      "16:\tlearn: 0.4459101\ttotal: 5.23ms\tremaining: 28.9ms\n",
      "17:\tlearn: 0.4389576\ttotal: 5.56ms\tremaining: 28.7ms\n",
      "18:\tlearn: 0.4378666\ttotal: 5.84ms\tremaining: 28.3ms\n",
      "19:\tlearn: 0.4293026\ttotal: 6.16ms\tremaining: 28ms\n",
      "20:\tlearn: 0.4278857\ttotal: 6.48ms\tremaining: 27.8ms\n",
      "21:\tlearn: 0.4215437\ttotal: 6.77ms\tremaining: 27.4ms\n",
      "22:\tlearn: 0.4184175\ttotal: 7.08ms\tremaining: 27.1ms\n",
      "23:\tlearn: 0.4137423\ttotal: 7.38ms\tremaining: 26.8ms\n",
      "24:\tlearn: 0.4107600\ttotal: 7.68ms\tremaining: 26.4ms\n",
      "25:\tlearn: 0.4056599\ttotal: 7.97ms\tremaining: 26.1ms\n",
      "26:\tlearn: 0.4044223\ttotal: 8.29ms\tremaining: 25.8ms\n",
      "27:\tlearn: 0.4008756\ttotal: 8.61ms\tremaining: 25.5ms\n",
      "28:\tlearn: 0.3973854\ttotal: 8.92ms\tremaining: 25.2ms\n",
      "29:\tlearn: 0.3958415\ttotal: 9.24ms\tremaining: 24.9ms\n",
      "30:\tlearn: 0.3918672\ttotal: 9.56ms\tremaining: 24.7ms\n",
      "31:\tlearn: 0.3860469\ttotal: 9.82ms\tremaining: 24.2ms\n",
      "32:\tlearn: 0.3835826\ttotal: 10.1ms\tremaining: 23.8ms\n",
      "33:\tlearn: 0.3818424\ttotal: 10.4ms\tremaining: 23.5ms\n",
      "34:\tlearn: 0.3795337\ttotal: 10.7ms\tremaining: 23.2ms\n",
      "35:\tlearn: 0.3774382\ttotal: 11ms\tremaining: 22.9ms\n",
      "36:\tlearn: 0.3748955\ttotal: 11.3ms\tremaining: 22.6ms\n",
      "37:\tlearn: 0.3671156\ttotal: 11.6ms\tremaining: 22.2ms\n",
      "38:\tlearn: 0.3622995\ttotal: 11.9ms\tremaining: 21.9ms\n",
      "39:\tlearn: 0.3599413\ttotal: 12.2ms\tremaining: 21.6ms\n",
      "40:\tlearn: 0.3548676\ttotal: 12.4ms\tremaining: 21.2ms\n",
      "41:\tlearn: 0.3518794\ttotal: 12.7ms\tremaining: 20.9ms\n",
      "42:\tlearn: 0.3500072\ttotal: 13ms\tremaining: 20.6ms\n",
      "43:\tlearn: 0.3483400\ttotal: 13.3ms\tremaining: 20.3ms\n",
      "44:\tlearn: 0.3443848\ttotal: 13.6ms\tremaining: 20ms\n",
      "45:\tlearn: 0.3434679\ttotal: 13.9ms\tremaining: 19.6ms\n",
      "46:\tlearn: 0.3422078\ttotal: 14.2ms\tremaining: 19.3ms\n",
      "47:\tlearn: 0.3400820\ttotal: 14.4ms\tremaining: 18.9ms\n",
      "48:\tlearn: 0.3391066\ttotal: 14.7ms\tremaining: 18.7ms\n",
      "49:\tlearn: 0.3379595\ttotal: 15ms\tremaining: 18.3ms\n",
      "50:\tlearn: 0.3375600\ttotal: 15.4ms\tremaining: 18.1ms\n",
      "51:\tlearn: 0.3309894\ttotal: 15.7ms\tremaining: 17.8ms\n",
      "52:\tlearn: 0.3293304\ttotal: 16ms\tremaining: 17.5ms\n",
      "53:\tlearn: 0.3273055\ttotal: 16.3ms\tremaining: 17.2ms\n",
      "54:\tlearn: 0.3258076\ttotal: 16.6ms\tremaining: 16.9ms\n",
      "55:\tlearn: 0.3234336\ttotal: 16.8ms\tremaining: 16.5ms\n",
      "56:\tlearn: 0.3193588\ttotal: 17.1ms\tremaining: 16.2ms\n",
      "57:\tlearn: 0.3147915\ttotal: 17.4ms\tremaining: 15.9ms\n",
      "58:\tlearn: 0.3130731\ttotal: 17.7ms\tremaining: 15.6ms\n",
      "59:\tlearn: 0.3111475\ttotal: 18ms\tremaining: 15.3ms\n",
      "60:\tlearn: 0.3093461\ttotal: 18.3ms\tremaining: 15ms\n",
      "61:\tlearn: 0.3080304\ttotal: 18.6ms\tremaining: 14.7ms\n",
      "62:\tlearn: 0.3067881\ttotal: 18.9ms\tremaining: 14.4ms\n",
      "63:\tlearn: 0.3035618\ttotal: 19.2ms\tremaining: 14.1ms\n",
      "64:\tlearn: 0.3017353\ttotal: 19.5ms\tremaining: 13.8ms\n",
      "65:\tlearn: 0.3008218\ttotal: 19.7ms\tremaining: 13.5ms\n",
      "66:\tlearn: 0.2997627\ttotal: 20ms\tremaining: 13.1ms\n",
      "67:\tlearn: 0.2971770\ttotal: 20.3ms\tremaining: 12.8ms\n",
      "68:\tlearn: 0.2953969\ttotal: 20.6ms\tremaining: 12.5ms\n",
      "69:\tlearn: 0.2940638\ttotal: 20.9ms\tremaining: 12.2ms\n",
      "70:\tlearn: 0.2931631\ttotal: 21.1ms\tremaining: 11.9ms\n",
      "71:\tlearn: 0.2913631\ttotal: 21.4ms\tremaining: 11.6ms\n",
      "72:\tlearn: 0.2900558\ttotal: 21.7ms\tremaining: 11.3ms\n",
      "73:\tlearn: 0.2880026\ttotal: 22ms\tremaining: 11ms\n",
      "74:\tlearn: 0.2842053\ttotal: 22.3ms\tremaining: 10.7ms\n",
      "75:\tlearn: 0.2831965\ttotal: 22.6ms\tremaining: 10.4ms\n",
      "76:\tlearn: 0.2813115\ttotal: 22.9ms\tremaining: 10.1ms\n",
      "77:\tlearn: 0.2777719\ttotal: 23.2ms\tremaining: 9.83ms\n",
      "78:\tlearn: 0.2757033\ttotal: 23.5ms\tremaining: 9.52ms\n",
      "79:\tlearn: 0.2748406\ttotal: 23.7ms\tremaining: 9.2ms\n",
      "80:\tlearn: 0.2738437\ttotal: 24.1ms\tremaining: 8.91ms\n",
      "81:\tlearn: 0.2728225\ttotal: 24.3ms\tremaining: 8.6ms\n",
      "82:\tlearn: 0.2713519\ttotal: 24.7ms\tremaining: 8.32ms\n",
      "83:\tlearn: 0.2707291\ttotal: 24.9ms\tremaining: 8ms\n",
      "84:\tlearn: 0.2695564\ttotal: 25.2ms\tremaining: 7.71ms\n",
      "85:\tlearn: 0.2679162\ttotal: 25.5ms\tremaining: 7.41ms\n",
      "86:\tlearn: 0.2661126\ttotal: 25.8ms\tremaining: 7.11ms\n",
      "87:\tlearn: 0.2639695\ttotal: 26.1ms\tremaining: 6.82ms\n",
      "88:\tlearn: 0.2623589\ttotal: 26.4ms\tremaining: 6.52ms\n",
      "89:\tlearn: 0.2615817\ttotal: 26.7ms\tremaining: 6.23ms\n",
      "90:\tlearn: 0.2599798\ttotal: 27ms\tremaining: 5.92ms\n",
      "91:\tlearn: 0.2581675\ttotal: 27.3ms\tremaining: 5.63ms\n",
      "92:\tlearn: 0.2559342\ttotal: 27.5ms\tremaining: 5.33ms\n",
      "93:\tlearn: 0.2542772\ttotal: 27.9ms\tremaining: 5.04ms\n",
      "94:\tlearn: 0.2531280\ttotal: 28.1ms\tremaining: 4.74ms\n",
      "95:\tlearn: 0.2524091\ttotal: 28.4ms\tremaining: 4.44ms\n",
      "96:\tlearn: 0.2508988\ttotal: 28.8ms\tremaining: 4.15ms\n",
      "97:\tlearn: 0.2495780\ttotal: 29ms\tremaining: 3.85ms\n",
      "98:\tlearn: 0.2487735\ttotal: 29.3ms\tremaining: 3.55ms\n",
      "99:\tlearn: 0.2480727\ttotal: 29.6ms\tremaining: 3.25ms\n",
      "100:\tlearn: 0.2470012\ttotal: 29.8ms\tremaining: 2.95ms\n",
      "101:\tlearn: 0.2453850\ttotal: 30.1ms\tremaining: 2.65ms\n",
      "102:\tlearn: 0.2442233\ttotal: 30.4ms\tremaining: 2.36ms\n",
      "103:\tlearn: 0.2436300\ttotal: 30.6ms\tremaining: 2.06ms\n",
      "104:\tlearn: 0.2420390\ttotal: 30.9ms\tremaining: 1.76ms\n",
      "105:\tlearn: 0.2397750\ttotal: 31.2ms\tremaining: 1.47ms\n",
      "106:\tlearn: 0.2389998\ttotal: 31.4ms\tremaining: 1.18ms\n",
      "107:\tlearn: 0.2357349\ttotal: 31.7ms\tremaining: 880us\n",
      "108:\tlearn: 0.2335497\ttotal: 32ms\tremaining: 587us\n",
      "109:\tlearn: 0.2327971\ttotal: 32.3ms\tremaining: 293us\n",
      "110:\tlearn: 0.2310659\ttotal: 32.6ms\tremaining: 0us\n"
     ]
    },
    {
     "name": "stderr",
     "output_type": "stream",
     "text": [
      "/usr/local/lib/python3.10/dist-packages/xgboost/data.py:335: FutureWarning: is_sparse is deprecated and will be removed in a future version. Check `isinstance(dtype, pd.SparseDtype)` instead.\n",
      "  if is_sparse(dtype):\n",
      "/usr/local/lib/python3.10/dist-packages/xgboost/data.py:338: FutureWarning: is_categorical_dtype is deprecated and will be removed in a future version. Use isinstance(dtype, CategoricalDtype) instead\n",
      "  is_categorical_dtype(dtype) or is_pa_ext_categorical_dtype(dtype)\n",
      "/usr/local/lib/python3.10/dist-packages/xgboost/data.py:384: FutureWarning: is_categorical_dtype is deprecated and will be removed in a future version. Use isinstance(dtype, CategoricalDtype) instead\n",
      "  if is_categorical_dtype(dtype):\n",
      "/usr/local/lib/python3.10/dist-packages/xgboost/data.py:359: FutureWarning: is_categorical_dtype is deprecated and will be removed in a future version. Use isinstance(dtype, CategoricalDtype) instead\n",
      "  return is_int or is_bool or is_float or is_categorical_dtype(dtype)\n",
      "/usr/local/lib/python3.10/dist-packages/xgboost/data.py:520: FutureWarning: is_sparse is deprecated and will be removed in a future version. Check `isinstance(dtype, pd.SparseDtype)` instead.\n",
      "  if is_sparse(data):\n"
     ]
    }
   ],
   "source": [
    "dt_model = Decision_Tree()\n",
    "rf_model = Random_Forest()\n",
    "cat_model = CatBoost()\n",
    "xgb_model = XGBoost()"
   ]
  },
  {
   "cell_type": "code",
   "execution_count": 106,
   "id": "85b0e47b-92e4-4d4f-b6e5-320639d057b3",
   "metadata": {},
   "outputs": [],
   "source": [
    "def evaluation(model):\n",
    "    y_pred = model.predict(x_test)\n",
    "\n",
    "    from sklearn.metrics import accuracy_score, precision_score, recall_score, f1_score\n",
    "\n",
    "    print(f\"Accuracy = {accuracy_score(y_test, y_pred)*100:.2f}%\")\n",
    "    print(f\"Precision Score = {precision_score(y_test, y_pred)*100:.2f}%\")\n",
    "    print(f\"Recall Score = {recall_score(y_test, y_pred)*100:.2f}%\")\n",
    "    print(f\"F1 Score = {f1_score(y_test, y_pred)*100:.2f}%\")"
   ]
  },
  {
   "cell_type": "code",
   "execution_count": 107,
   "id": "389edd9c-ab2e-4eb4-bded-08329ec4b59c",
   "metadata": {},
   "outputs": [
    {
     "name": "stdout",
     "output_type": "stream",
     "text": [
      "Accuracy = 62.43%\n",
      "Precision Score = 64.32%\n",
      "Recall Score = 62.96%\n",
      "F1 Score = 63.64%\n"
     ]
    }
   ],
   "source": [
    "evaluation(dt_model)"
   ]
  },
  {
   "cell_type": "code",
   "execution_count": 108,
   "id": "e5d6f13a-97a5-4ee2-84f7-9e2d3750ce3b",
   "metadata": {},
   "outputs": [
    {
     "name": "stdout",
     "output_type": "stream",
     "text": [
      "Accuracy = 67.96%\n",
      "Precision Score = 71.35%\n",
      "Recall Score = 64.55%\n",
      "F1 Score = 67.78%\n"
     ]
    }
   ],
   "source": [
    "evaluation(rf_model)"
   ]
  },
  {
   "cell_type": "code",
   "execution_count": 109,
   "id": "e79a31a2-e344-4ba6-9a01-8d7a41dacda8",
   "metadata": {},
   "outputs": [
    {
     "name": "stdout",
     "output_type": "stream",
     "text": [
      "Accuracy = 64.64%\n",
      "Precision Score = 68.48%\n",
      "Recall Score = 59.79%\n",
      "F1 Score = 63.84%\n"
     ]
    }
   ],
   "source": [
    "evaluation(cat_model)"
   ]
  },
  {
   "cell_type": "code",
   "execution_count": 111,
   "id": "58b7b2a4-e359-4d16-b440-71f7425cffb5",
   "metadata": {},
   "outputs": [
    {
     "name": "stdout",
     "output_type": "stream",
     "text": [
      "Accuracy = 63.54%\n",
      "Precision Score = 66.86%\n",
      "Recall Score = 59.79%\n",
      "F1 Score = 63.13%\n"
     ]
    },
    {
     "name": "stderr",
     "output_type": "stream",
     "text": [
      "/usr/local/lib/python3.10/dist-packages/xgboost/data.py:335: FutureWarning: is_sparse is deprecated and will be removed in a future version. Check `isinstance(dtype, pd.SparseDtype)` instead.\n",
      "  if is_sparse(dtype):\n",
      "/usr/local/lib/python3.10/dist-packages/xgboost/data.py:338: FutureWarning: is_categorical_dtype is deprecated and will be removed in a future version. Use isinstance(dtype, CategoricalDtype) instead\n",
      "  is_categorical_dtype(dtype) or is_pa_ext_categorical_dtype(dtype)\n",
      "/usr/local/lib/python3.10/dist-packages/xgboost/data.py:384: FutureWarning: is_categorical_dtype is deprecated and will be removed in a future version. Use isinstance(dtype, CategoricalDtype) instead\n",
      "  if is_categorical_dtype(dtype):\n",
      "/usr/local/lib/python3.10/dist-packages/xgboost/data.py:359: FutureWarning: is_categorical_dtype is deprecated and will be removed in a future version. Use isinstance(dtype, CategoricalDtype) instead\n",
      "  return is_int or is_bool or is_float or is_categorical_dtype(dtype)\n"
     ]
    }
   ],
   "source": [
    "evaluation(xgb_model)"
   ]
  },
  {
   "cell_type": "code",
   "execution_count": null,
   "id": "6b443c75-c257-4012-838d-9b29c1aa96bd",
   "metadata": {},
   "outputs": [],
   "source": []
  },
  {
   "cell_type": "code",
   "execution_count": null,
   "id": "1e6085e1-15f0-4286-a7ae-4358ad0c27a3",
   "metadata": {},
   "outputs": [],
   "source": []
  },
  {
   "cell_type": "code",
   "execution_count": null,
   "id": "f6cc1637-f596-48c6-89d5-31fe3cf1efca",
   "metadata": {},
   "outputs": [],
   "source": []
  }
 ],
 "metadata": {
  "kernelspec": {
   "display_name": "Python 3 (ipykernel)",
   "language": "python",
   "name": "python3"
  },
  "language_info": {
   "codemirror_mode": {
    "name": "ipython",
    "version": 3
   },
   "file_extension": ".py",
   "mimetype": "text/x-python",
   "name": "python",
   "nbconvert_exporter": "python",
   "pygments_lexer": "ipython3",
   "version": "3.10.12"
  }
 },
 "nbformat": 4,
 "nbformat_minor": 5
}
