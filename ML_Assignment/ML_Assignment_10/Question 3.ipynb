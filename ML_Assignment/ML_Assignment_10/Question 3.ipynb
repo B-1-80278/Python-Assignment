{
 "cells": [
  {
   "cell_type": "markdown",
   "id": "42a86fda-f8bb-4810-a44c-372d1ec27ecd",
   "metadata": {},
   "source": [
    "Que. 3\n",
    "\n",
    "You own an ice cream business and you would like to create a model that could predict the daily revenue in dollars based on the outside air temperature (degC). Build ANN Model and evaluate the model.\n",
    "\n",
    "Dataset : IceCreamData.csv"
   ]
  },
  {
   "cell_type": "code",
   "execution_count": 1,
   "id": "35cfca99-444c-4920-8ed1-fbfe7bf5615c",
   "metadata": {},
   "outputs": [
    {
     "name": "stderr",
     "output_type": "stream",
     "text": [
      "2023-11-28 16:26:21.802137: I tensorflow/core/util/port.cc:111] oneDNN custom operations are on. You may see slightly different numerical results due to floating-point round-off errors from different computation orders. To turn them off, set the environment variable `TF_ENABLE_ONEDNN_OPTS=0`.\n",
      "2023-11-28 16:26:21.826113: E tensorflow/compiler/xla/stream_executor/cuda/cuda_dnn.cc:9342] Unable to register cuDNN factory: Attempting to register factory for plugin cuDNN when one has already been registered\n",
      "2023-11-28 16:26:21.826139: E tensorflow/compiler/xla/stream_executor/cuda/cuda_fft.cc:609] Unable to register cuFFT factory: Attempting to register factory for plugin cuFFT when one has already been registered\n",
      "2023-11-28 16:26:21.826158: E tensorflow/compiler/xla/stream_executor/cuda/cuda_blas.cc:1518] Unable to register cuBLAS factory: Attempting to register factory for plugin cuBLAS when one has already been registered\n",
      "2023-11-28 16:26:21.831016: I tensorflow/core/platform/cpu_feature_guard.cc:182] This TensorFlow binary is optimized to use available CPU instructions in performance-critical operations.\n",
      "To enable the following instructions: AVX2 AVX_VNNI FMA, in other operations, rebuild TensorFlow with the appropriate compiler flags.\n"
     ]
    }
   ],
   "source": [
    "import pandas as pd\n",
    "import numpy as np\n",
    "import tensorflow as tf"
   ]
  },
  {
   "cell_type": "code",
   "execution_count": 23,
   "id": "3b60e7b0-a08f-44f7-b796-29b762a801a9",
   "metadata": {},
   "outputs": [],
   "source": [
    "tf.keras.backend.clear_session()"
   ]
  },
  {
   "cell_type": "markdown",
   "id": "accdd057-72da-4cc6-ac0d-88ca06d74f02",
   "metadata": {},
   "source": [
    "### dataset"
   ]
  },
  {
   "cell_type": "code",
   "execution_count": 2,
   "id": "52784a28-1df6-4b08-ae5a-17690723824b",
   "metadata": {},
   "outputs": [
    {
     "data": {
      "text/html": [
       "<div>\n",
       "<style scoped>\n",
       "    .dataframe tbody tr th:only-of-type {\n",
       "        vertical-align: middle;\n",
       "    }\n",
       "\n",
       "    .dataframe tbody tr th {\n",
       "        vertical-align: top;\n",
       "    }\n",
       "\n",
       "    .dataframe thead th {\n",
       "        text-align: right;\n",
       "    }\n",
       "</style>\n",
       "<table border=\"1\" class=\"dataframe\">\n",
       "  <thead>\n",
       "    <tr style=\"text-align: right;\">\n",
       "      <th></th>\n",
       "      <th>Temperature</th>\n",
       "      <th>Revenue</th>\n",
       "    </tr>\n",
       "  </thead>\n",
       "  <tbody>\n",
       "    <tr>\n",
       "      <th>0</th>\n",
       "      <td>24.566884</td>\n",
       "      <td>534.799028</td>\n",
       "    </tr>\n",
       "    <tr>\n",
       "      <th>1</th>\n",
       "      <td>26.005191</td>\n",
       "      <td>625.190122</td>\n",
       "    </tr>\n",
       "    <tr>\n",
       "      <th>2</th>\n",
       "      <td>27.790554</td>\n",
       "      <td>660.632289</td>\n",
       "    </tr>\n",
       "    <tr>\n",
       "      <th>3</th>\n",
       "      <td>20.595335</td>\n",
       "      <td>487.706960</td>\n",
       "    </tr>\n",
       "    <tr>\n",
       "      <th>4</th>\n",
       "      <td>11.503498</td>\n",
       "      <td>316.240194</td>\n",
       "    </tr>\n",
       "    <tr>\n",
       "      <th>...</th>\n",
       "      <td>...</td>\n",
       "      <td>...</td>\n",
       "    </tr>\n",
       "    <tr>\n",
       "      <th>495</th>\n",
       "      <td>22.274899</td>\n",
       "      <td>524.746364</td>\n",
       "    </tr>\n",
       "    <tr>\n",
       "      <th>496</th>\n",
       "      <td>32.893092</td>\n",
       "      <td>755.818399</td>\n",
       "    </tr>\n",
       "    <tr>\n",
       "      <th>497</th>\n",
       "      <td>12.588157</td>\n",
       "      <td>306.090719</td>\n",
       "    </tr>\n",
       "    <tr>\n",
       "      <th>498</th>\n",
       "      <td>22.362402</td>\n",
       "      <td>566.217304</td>\n",
       "    </tr>\n",
       "    <tr>\n",
       "      <th>499</th>\n",
       "      <td>28.957736</td>\n",
       "      <td>655.660388</td>\n",
       "    </tr>\n",
       "  </tbody>\n",
       "</table>\n",
       "<p>500 rows × 2 columns</p>\n",
       "</div>"
      ],
      "text/plain": [
       "     Temperature     Revenue\n",
       "0      24.566884  534.799028\n",
       "1      26.005191  625.190122\n",
       "2      27.790554  660.632289\n",
       "3      20.595335  487.706960\n",
       "4      11.503498  316.240194\n",
       "..           ...         ...\n",
       "495    22.274899  524.746364\n",
       "496    32.893092  755.818399\n",
       "497    12.588157  306.090719\n",
       "498    22.362402  566.217304\n",
       "499    28.957736  655.660388\n",
       "\n",
       "[500 rows x 2 columns]"
      ]
     },
     "execution_count": 2,
     "metadata": {},
     "output_type": "execute_result"
    }
   ],
   "source": [
    "df = pd.read_csv('/home/sad7_5407/Desktop/Sunbeam Material/ML/Assignment/IceCreamData.csv')\n",
    "df"
   ]
  },
  {
   "cell_type": "markdown",
   "id": "259fab26-32ba-477e-ad9c-c5d26404db65",
   "metadata": {},
   "source": [
    "### EDA"
   ]
  },
  {
   "cell_type": "code",
   "execution_count": 3,
   "id": "23cc26f5-a2be-4d71-bc77-23410449449e",
   "metadata": {},
   "outputs": [
    {
     "name": "stdout",
     "output_type": "stream",
     "text": [
      "<class 'pandas.core.frame.DataFrame'>\n",
      "RangeIndex: 500 entries, 0 to 499\n",
      "Data columns (total 2 columns):\n",
      " #   Column       Non-Null Count  Dtype  \n",
      "---  ------       --------------  -----  \n",
      " 0   Temperature  500 non-null    float64\n",
      " 1   Revenue      500 non-null    float64\n",
      "dtypes: float64(2)\n",
      "memory usage: 7.9 KB\n"
     ]
    }
   ],
   "source": [
    "df.info()"
   ]
  },
  {
   "cell_type": "code",
   "execution_count": 4,
   "id": "084351d7-87dc-4cb0-8acc-c2bf0d62357e",
   "metadata": {},
   "outputs": [
    {
     "data": {
      "text/html": [
       "<div>\n",
       "<style scoped>\n",
       "    .dataframe tbody tr th:only-of-type {\n",
       "        vertical-align: middle;\n",
       "    }\n",
       "\n",
       "    .dataframe tbody tr th {\n",
       "        vertical-align: top;\n",
       "    }\n",
       "\n",
       "    .dataframe thead th {\n",
       "        text-align: right;\n",
       "    }\n",
       "</style>\n",
       "<table border=\"1\" class=\"dataframe\">\n",
       "  <thead>\n",
       "    <tr style=\"text-align: right;\">\n",
       "      <th></th>\n",
       "      <th>Temperature</th>\n",
       "      <th>Revenue</th>\n",
       "    </tr>\n",
       "  </thead>\n",
       "  <tbody>\n",
       "    <tr>\n",
       "      <th>count</th>\n",
       "      <td>500.000000</td>\n",
       "      <td>500.000000</td>\n",
       "    </tr>\n",
       "    <tr>\n",
       "      <th>mean</th>\n",
       "      <td>22.232225</td>\n",
       "      <td>521.570777</td>\n",
       "    </tr>\n",
       "    <tr>\n",
       "      <th>std</th>\n",
       "      <td>8.096388</td>\n",
       "      <td>175.404751</td>\n",
       "    </tr>\n",
       "    <tr>\n",
       "      <th>min</th>\n",
       "      <td>0.000000</td>\n",
       "      <td>10.000000</td>\n",
       "    </tr>\n",
       "    <tr>\n",
       "      <th>25%</th>\n",
       "      <td>17.122258</td>\n",
       "      <td>405.558681</td>\n",
       "    </tr>\n",
       "    <tr>\n",
       "      <th>50%</th>\n",
       "      <td>22.392791</td>\n",
       "      <td>529.368565</td>\n",
       "    </tr>\n",
       "    <tr>\n",
       "      <th>75%</th>\n",
       "      <td>27.740674</td>\n",
       "      <td>642.257922</td>\n",
       "    </tr>\n",
       "    <tr>\n",
       "      <th>max</th>\n",
       "      <td>45.000000</td>\n",
       "      <td>1000.000000</td>\n",
       "    </tr>\n",
       "  </tbody>\n",
       "</table>\n",
       "</div>"
      ],
      "text/plain": [
       "       Temperature      Revenue\n",
       "count   500.000000   500.000000\n",
       "mean     22.232225   521.570777\n",
       "std       8.096388   175.404751\n",
       "min       0.000000    10.000000\n",
       "25%      17.122258   405.558681\n",
       "50%      22.392791   529.368565\n",
       "75%      27.740674   642.257922\n",
       "max      45.000000  1000.000000"
      ]
     },
     "execution_count": 4,
     "metadata": {},
     "output_type": "execute_result"
    }
   ],
   "source": [
    "df.describe()"
   ]
  },
  {
   "cell_type": "markdown",
   "id": "8b1d7c08-ca77-4f21-9d22-6c0d47e0440c",
   "metadata": {},
   "source": [
    "### Pre-processing"
   ]
  },
  {
   "cell_type": "code",
   "execution_count": 5,
   "id": "a73b7c75-200d-4158-be66-3c831f8d74e7",
   "metadata": {},
   "outputs": [],
   "source": [
    "X = df['Temperature']\n",
    "Y = df['Revenue']"
   ]
  },
  {
   "cell_type": "code",
   "execution_count": 6,
   "id": "7f5f050a-648d-4f0b-b133-aa61a4d3c7fb",
   "metadata": {},
   "outputs": [],
   "source": [
    "from sklearn.model_selection import train_test_split\n",
    "\n",
    "x_train,x_test,y_train,y_test = train_test_split(X,Y, train_size=0.9)"
   ]
  },
  {
   "cell_type": "markdown",
   "id": "710a9f80-ce38-4bf7-b34d-024571014fdb",
   "metadata": {},
   "source": [
    "### Model Building"
   ]
  },
  {
   "cell_type": "code",
   "execution_count": 7,
   "id": "c6010be4-fa3d-4074-bf34-754c12cf39cf",
   "metadata": {},
   "outputs": [],
   "source": [
    "from tensorflow.keras import Sequential\n",
    "from tensorflow.keras.layers import Dense"
   ]
  },
  {
   "cell_type": "code",
   "execution_count": 18,
   "id": "07a30c50-2deb-4abe-a121-07be2dd6b8da",
   "metadata": {},
   "outputs": [],
   "source": [
    "model = Sequential(\n",
    "    [\n",
    "        Dense(units=5, input_shape=[1])\n",
    "    ]\n",
    ")\n",
    "\n",
    "# add an output layer\n",
    "model.add(Dense(units=1))"
   ]
  },
  {
   "cell_type": "code",
   "execution_count": 19,
   "id": "29b82082-7513-471d-adf6-f1edab4395af",
   "metadata": {},
   "outputs": [],
   "source": [
    "model.compile(optimizer='adam',loss='mean_absolute_error')"
   ]
  },
  {
   "cell_type": "code",
   "execution_count": 20,
   "id": "ea6b92de-212a-4432-83b8-fb7dda77e413",
   "metadata": {},
   "outputs": [
    {
     "name": "stdout",
     "output_type": "stream",
     "text": [
      "Epoch 1/100\n",
      "15/15 [==============================] - 0s 2ms/step - loss: 502.8531\n",
      "Epoch 2/100\n",
      "15/15 [==============================] - 0s 2ms/step - loss: 501.4440\n",
      "Epoch 3/100\n",
      "15/15 [==============================] - 0s 2ms/step - loss: 500.0126\n",
      "Epoch 4/100\n",
      "15/15 [==============================] - 0s 2ms/step - loss: 498.5142\n",
      "Epoch 5/100\n",
      "15/15 [==============================] - 0s 2ms/step - loss: 496.9291\n",
      "Epoch 6/100\n",
      "15/15 [==============================] - 0s 2ms/step - loss: 495.2992\n",
      "Epoch 7/100\n",
      "15/15 [==============================] - 0s 2ms/step - loss: 493.6155\n",
      "Epoch 8/100\n",
      "15/15 [==============================] - 0s 2ms/step - loss: 491.8942\n",
      "Epoch 9/100\n",
      "15/15 [==============================] - 0s 3ms/step - loss: 490.0950\n",
      "Epoch 10/100\n",
      "15/15 [==============================] - 0s 2ms/step - loss: 488.2075\n",
      "Epoch 11/100\n",
      "15/15 [==============================] - 0s 2ms/step - loss: 486.2429\n",
      "Epoch 12/100\n",
      "15/15 [==============================] - 0s 2ms/step - loss: 484.1902\n",
      "Epoch 13/100\n",
      "15/15 [==============================] - 0s 2ms/step - loss: 482.0496\n",
      "Epoch 14/100\n",
      "15/15 [==============================] - 0s 2ms/step - loss: 479.8166\n",
      "Epoch 15/100\n",
      "15/15 [==============================] - 0s 2ms/step - loss: 477.4950\n",
      "Epoch 16/100\n",
      "15/15 [==============================] - 0s 3ms/step - loss: 475.1120\n",
      "Epoch 17/100\n",
      "15/15 [==============================] - 0s 2ms/step - loss: 472.6774\n",
      "Epoch 18/100\n",
      "15/15 [==============================] - 0s 2ms/step - loss: 470.1333\n",
      "Epoch 19/100\n",
      "15/15 [==============================] - 0s 3ms/step - loss: 467.4647\n",
      "Epoch 20/100\n",
      "15/15 [==============================] - 0s 3ms/step - loss: 464.6815\n",
      "Epoch 21/100\n",
      "15/15 [==============================] - 0s 2ms/step - loss: 461.8304\n",
      "Epoch 22/100\n",
      "15/15 [==============================] - 0s 2ms/step - loss: 458.9080\n",
      "Epoch 23/100\n",
      "15/15 [==============================] - 0s 2ms/step - loss: 455.8936\n",
      "Epoch 24/100\n",
      "15/15 [==============================] - 0s 2ms/step - loss: 452.7546\n",
      "Epoch 25/100\n",
      "15/15 [==============================] - 0s 2ms/step - loss: 449.5218\n",
      "Epoch 26/100\n",
      "15/15 [==============================] - 0s 2ms/step - loss: 446.1830\n",
      "Epoch 27/100\n",
      "15/15 [==============================] - 0s 2ms/step - loss: 442.7199\n",
      "Epoch 28/100\n",
      "15/15 [==============================] - 0s 2ms/step - loss: 439.2213\n",
      "Epoch 29/100\n",
      "15/15 [==============================] - 0s 2ms/step - loss: 435.6269\n",
      "Epoch 30/100\n",
      "15/15 [==============================] - 0s 2ms/step - loss: 431.9386\n",
      "Epoch 31/100\n",
      "15/15 [==============================] - 0s 2ms/step - loss: 428.0729\n",
      "Epoch 32/100\n",
      "15/15 [==============================] - 0s 2ms/step - loss: 424.1216\n",
      "Epoch 33/100\n",
      "15/15 [==============================] - 0s 2ms/step - loss: 420.0070\n",
      "Epoch 34/100\n",
      "15/15 [==============================] - 0s 2ms/step - loss: 415.8471\n",
      "Epoch 35/100\n",
      "15/15 [==============================] - 0s 2ms/step - loss: 411.5439\n",
      "Epoch 36/100\n",
      "15/15 [==============================] - 0s 2ms/step - loss: 407.0820\n",
      "Epoch 37/100\n",
      "15/15 [==============================] - 0s 2ms/step - loss: 402.5858\n",
      "Epoch 38/100\n",
      "15/15 [==============================] - 0s 2ms/step - loss: 397.8884\n",
      "Epoch 39/100\n",
      "15/15 [==============================] - 0s 2ms/step - loss: 393.0461\n",
      "Epoch 40/100\n",
      "15/15 [==============================] - 0s 2ms/step - loss: 388.1472\n",
      "Epoch 41/100\n",
      "15/15 [==============================] - 0s 2ms/step - loss: 383.2002\n",
      "Epoch 42/100\n",
      "15/15 [==============================] - 0s 2ms/step - loss: 377.9975\n",
      "Epoch 43/100\n",
      "15/15 [==============================] - 0s 2ms/step - loss: 372.6095\n",
      "Epoch 44/100\n",
      "15/15 [==============================] - 0s 2ms/step - loss: 367.0320\n",
      "Epoch 45/100\n",
      "15/15 [==============================] - 0s 2ms/step - loss: 361.2595\n",
      "Epoch 46/100\n",
      "15/15 [==============================] - 0s 2ms/step - loss: 355.5439\n",
      "Epoch 47/100\n",
      "15/15 [==============================] - 0s 2ms/step - loss: 349.6998\n",
      "Epoch 48/100\n",
      "15/15 [==============================] - 0s 2ms/step - loss: 343.7005\n",
      "Epoch 49/100\n",
      "15/15 [==============================] - 0s 3ms/step - loss: 337.6794\n",
      "Epoch 50/100\n",
      "15/15 [==============================] - 0s 2ms/step - loss: 331.4786\n",
      "Epoch 51/100\n",
      "15/15 [==============================] - 0s 2ms/step - loss: 325.1875\n",
      "Epoch 52/100\n",
      "15/15 [==============================] - 0s 2ms/step - loss: 318.6736\n",
      "Epoch 53/100\n",
      "15/15 [==============================] - 0s 2ms/step - loss: 311.9061\n",
      "Epoch 54/100\n",
      "15/15 [==============================] - 0s 2ms/step - loss: 304.9977\n",
      "Epoch 55/100\n",
      "15/15 [==============================] - 0s 2ms/step - loss: 298.0484\n",
      "Epoch 56/100\n",
      "15/15 [==============================] - 0s 2ms/step - loss: 291.1709\n",
      "Epoch 57/100\n",
      "15/15 [==============================] - 0s 2ms/step - loss: 284.0761\n",
      "Epoch 58/100\n",
      "15/15 [==============================] - 0s 2ms/step - loss: 276.8826\n",
      "Epoch 59/100\n",
      "15/15 [==============================] - 0s 2ms/step - loss: 269.4838\n",
      "Epoch 60/100\n",
      "15/15 [==============================] - 0s 2ms/step - loss: 261.9826\n",
      "Epoch 61/100\n",
      "15/15 [==============================] - 0s 2ms/step - loss: 254.2694\n",
      "Epoch 62/100\n",
      "15/15 [==============================] - 0s 2ms/step - loss: 246.4135\n",
      "Epoch 63/100\n",
      "15/15 [==============================] - 0s 2ms/step - loss: 238.4919\n",
      "Epoch 64/100\n",
      "15/15 [==============================] - 0s 3ms/step - loss: 230.5048\n",
      "Epoch 65/100\n",
      "15/15 [==============================] - 0s 2ms/step - loss: 222.3743\n",
      "Epoch 66/100\n",
      "15/15 [==============================] - 0s 2ms/step - loss: 214.0625\n",
      "Epoch 67/100\n",
      "15/15 [==============================] - 0s 2ms/step - loss: 205.7891\n",
      "Epoch 68/100\n",
      "15/15 [==============================] - 0s 2ms/step - loss: 197.3526\n",
      "Epoch 69/100\n",
      "15/15 [==============================] - 0s 2ms/step - loss: 188.7550\n",
      "Epoch 70/100\n",
      "15/15 [==============================] - 0s 2ms/step - loss: 180.1105\n",
      "Epoch 71/100\n",
      "15/15 [==============================] - 0s 2ms/step - loss: 171.1868\n",
      "Epoch 72/100\n",
      "15/15 [==============================] - 0s 2ms/step - loss: 162.2132\n",
      "Epoch 73/100\n",
      "15/15 [==============================] - 0s 2ms/step - loss: 153.1071\n",
      "Epoch 74/100\n",
      "15/15 [==============================] - 0s 2ms/step - loss: 144.0981\n",
      "Epoch 75/100\n",
      "15/15 [==============================] - 0s 2ms/step - loss: 134.8304\n",
      "Epoch 76/100\n",
      "15/15 [==============================] - 0s 2ms/step - loss: 125.4863\n",
      "Epoch 77/100\n",
      "15/15 [==============================] - 0s 2ms/step - loss: 115.9762\n",
      "Epoch 78/100\n",
      "15/15 [==============================] - 0s 2ms/step - loss: 106.4658\n",
      "Epoch 79/100\n",
      "15/15 [==============================] - 0s 2ms/step - loss: 96.7678\n",
      "Epoch 80/100\n",
      "15/15 [==============================] - 0s 2ms/step - loss: 86.9030\n",
      "Epoch 81/100\n",
      "15/15 [==============================] - 0s 2ms/step - loss: 77.2381\n",
      "Epoch 82/100\n",
      "15/15 [==============================] - 0s 2ms/step - loss: 67.3173\n",
      "Epoch 83/100\n",
      "15/15 [==============================] - 0s 2ms/step - loss: 57.4793\n",
      "Epoch 84/100\n",
      "15/15 [==============================] - 0s 2ms/step - loss: 47.9895\n",
      "Epoch 85/100\n",
      "15/15 [==============================] - 0s 2ms/step - loss: 39.1078\n",
      "Epoch 86/100\n",
      "15/15 [==============================] - 0s 2ms/step - loss: 31.6672\n",
      "Epoch 87/100\n",
      "15/15 [==============================] - 0s 2ms/step - loss: 26.3219\n",
      "Epoch 88/100\n",
      "15/15 [==============================] - 0s 2ms/step - loss: 22.9806\n",
      "Epoch 89/100\n",
      "15/15 [==============================] - 0s 2ms/step - loss: 21.2557\n",
      "Epoch 90/100\n",
      "15/15 [==============================] - 0s 2ms/step - loss: 20.6687\n",
      "Epoch 91/100\n",
      "15/15 [==============================] - 0s 2ms/step - loss: 20.5395\n",
      "Epoch 92/100\n",
      "15/15 [==============================] - 0s 2ms/step - loss: 20.5191\n",
      "Epoch 93/100\n",
      "15/15 [==============================] - 0s 2ms/step - loss: 20.5018\n",
      "Epoch 94/100\n",
      "15/15 [==============================] - 0s 2ms/step - loss: 20.4844\n",
      "Epoch 95/100\n",
      "15/15 [==============================] - 0s 2ms/step - loss: 20.4864\n",
      "Epoch 96/100\n",
      "15/15 [==============================] - 0s 2ms/step - loss: 20.4860\n",
      "Epoch 97/100\n",
      "15/15 [==============================] - 0s 2ms/step - loss: 20.4672\n",
      "Epoch 98/100\n",
      "15/15 [==============================] - 0s 2ms/step - loss: 20.4936\n",
      "Epoch 99/100\n",
      "15/15 [==============================] - 0s 2ms/step - loss: 20.4633\n",
      "Epoch 100/100\n",
      "15/15 [==============================] - 0s 1ms/step - loss: 20.4745\n"
     ]
    },
    {
     "data": {
      "text/plain": [
       "<keras.src.callbacks.History at 0x7fd94ff67700>"
      ]
     },
     "execution_count": 20,
     "metadata": {},
     "output_type": "execute_result"
    }
   ],
   "source": [
    "model.fit(x_train,y_train,epochs=100)"
   ]
  },
  {
   "cell_type": "code",
   "execution_count": 21,
   "id": "b82720c0-905a-4ba0-a289-1bf827c1a9d7",
   "metadata": {},
   "outputs": [],
   "source": [
    "def evaluate_model(model):\n",
    "    y_pred = model.predict(x_test)\n",
    "    from sklearn.metrics import mean_absolute_error,mean_squared_error,r2_score\n",
    "    print(f'mae : {mean_absolute_error(y_test,y_pred)}')\n",
    "    print(f'mse : {mean_squared_error(y_test,y_pred)}')\n",
    "    print(f'rmse : {np.sqrt(mean_squared_error(y_test,y_pred))}')\n",
    "    print(f'r2 scroe : {r2_score(y_test,y_pred)}')"
   ]
  },
  {
   "cell_type": "code",
   "execution_count": 22,
   "id": "0f8581bb-7d51-4321-b0b4-227c2369a1d4",
   "metadata": {
    "scrolled": true
   },
   "outputs": [
    {
     "name": "stdout",
     "output_type": "stream",
     "text": [
      "2/2 [==============================] - 0s 2ms/step\n",
      "mae : 22.14140997420049\n",
      "mse : 747.0807223724316\n",
      "rmse : 27.332777436119287\n",
      "r2 scroe : 0.976441921319603\n"
     ]
    }
   ],
   "source": [
    "evaluate_model(model)"
   ]
  }
 ],
 "metadata": {
  "kernelspec": {
   "display_name": "Python 3 (ipykernel)",
   "language": "python",
   "name": "python3"
  },
  "language_info": {
   "codemirror_mode": {
    "name": "ipython",
    "version": 3
   },
   "file_extension": ".py",
   "mimetype": "text/x-python",
   "name": "python",
   "nbconvert_exporter": "python",
   "pygments_lexer": "ipython3",
   "version": "3.10.12"
  }
 },
 "nbformat": 4,
 "nbformat_minor": 5
}
