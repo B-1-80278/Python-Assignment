{
 "cells": [
  {
   "cell_type": "markdown",
   "id": "42a86fda-f8bb-4810-a44c-372d1ec27ecd",
   "metadata": {},
   "source": [
    "Que. 4\n",
    "\n",
    "In the following dataset you have given SAT score and GPA of students. You have to predict GPA of students by using SAT score.\n",
    "Build a ANN Model and  evaluate the model.\n",
    "\n",
    "Dataset : SAT-GPA.csv"
   ]
  },
  {
   "cell_type": "code",
   "execution_count": 1,
   "id": "35cfca99-444c-4920-8ed1-fbfe7bf5615c",
   "metadata": {},
   "outputs": [
    {
     "name": "stderr",
     "output_type": "stream",
     "text": [
      "2023-11-28 16:35:36.814066: I tensorflow/core/util/port.cc:111] oneDNN custom operations are on. You may see slightly different numerical results due to floating-point round-off errors from different computation orders. To turn them off, set the environment variable `TF_ENABLE_ONEDNN_OPTS=0`.\n",
      "2023-11-28 16:35:36.837580: E tensorflow/compiler/xla/stream_executor/cuda/cuda_dnn.cc:9342] Unable to register cuDNN factory: Attempting to register factory for plugin cuDNN when one has already been registered\n",
      "2023-11-28 16:35:36.837610: E tensorflow/compiler/xla/stream_executor/cuda/cuda_fft.cc:609] Unable to register cuFFT factory: Attempting to register factory for plugin cuFFT when one has already been registered\n",
      "2023-11-28 16:35:36.837629: E tensorflow/compiler/xla/stream_executor/cuda/cuda_blas.cc:1518] Unable to register cuBLAS factory: Attempting to register factory for plugin cuBLAS when one has already been registered\n",
      "2023-11-28 16:35:36.842291: I tensorflow/core/platform/cpu_feature_guard.cc:182] This TensorFlow binary is optimized to use available CPU instructions in performance-critical operations.\n",
      "To enable the following instructions: AVX2 AVX_VNNI FMA, in other operations, rebuild TensorFlow with the appropriate compiler flags.\n"
     ]
    }
   ],
   "source": [
    "import pandas as pd\n",
    "import numpy as np\n",
    "import tensorflow as tf"
   ]
  },
  {
   "cell_type": "code",
   "execution_count": 23,
   "id": "3b60e7b0-a08f-44f7-b796-29b762a801a9",
   "metadata": {},
   "outputs": [],
   "source": [
    "tf.keras.backend.clear_session()"
   ]
  },
  {
   "cell_type": "markdown",
   "id": "accdd057-72da-4cc6-ac0d-88ca06d74f02",
   "metadata": {},
   "source": [
    "### dataset"
   ]
  },
  {
   "cell_type": "code",
   "execution_count": 2,
   "id": "52784a28-1df6-4b08-ae5a-17690723824b",
   "metadata": {},
   "outputs": [
    {
     "data": {
      "text/html": [
       "<div>\n",
       "<style scoped>\n",
       "    .dataframe tbody tr th:only-of-type {\n",
       "        vertical-align: middle;\n",
       "    }\n",
       "\n",
       "    .dataframe tbody tr th {\n",
       "        vertical-align: top;\n",
       "    }\n",
       "\n",
       "    .dataframe thead th {\n",
       "        text-align: right;\n",
       "    }\n",
       "</style>\n",
       "<table border=\"1\" class=\"dataframe\">\n",
       "  <thead>\n",
       "    <tr style=\"text-align: right;\">\n",
       "      <th></th>\n",
       "      <th>SAT</th>\n",
       "      <th>GPA</th>\n",
       "    </tr>\n",
       "  </thead>\n",
       "  <tbody>\n",
       "    <tr>\n",
       "      <th>0</th>\n",
       "      <td>1714</td>\n",
       "      <td>2.40</td>\n",
       "    </tr>\n",
       "    <tr>\n",
       "      <th>1</th>\n",
       "      <td>1664</td>\n",
       "      <td>2.52</td>\n",
       "    </tr>\n",
       "    <tr>\n",
       "      <th>2</th>\n",
       "      <td>1760</td>\n",
       "      <td>2.54</td>\n",
       "    </tr>\n",
       "    <tr>\n",
       "      <th>3</th>\n",
       "      <td>1685</td>\n",
       "      <td>2.74</td>\n",
       "    </tr>\n",
       "    <tr>\n",
       "      <th>4</th>\n",
       "      <td>1693</td>\n",
       "      <td>2.83</td>\n",
       "    </tr>\n",
       "    <tr>\n",
       "      <th>...</th>\n",
       "      <td>...</td>\n",
       "      <td>...</td>\n",
       "    </tr>\n",
       "    <tr>\n",
       "      <th>79</th>\n",
       "      <td>1936</td>\n",
       "      <td>3.71</td>\n",
       "    </tr>\n",
       "    <tr>\n",
       "      <th>80</th>\n",
       "      <td>1810</td>\n",
       "      <td>3.71</td>\n",
       "    </tr>\n",
       "    <tr>\n",
       "      <th>81</th>\n",
       "      <td>1987</td>\n",
       "      <td>3.73</td>\n",
       "    </tr>\n",
       "    <tr>\n",
       "      <th>82</th>\n",
       "      <td>1962</td>\n",
       "      <td>3.76</td>\n",
       "    </tr>\n",
       "    <tr>\n",
       "      <th>83</th>\n",
       "      <td>2050</td>\n",
       "      <td>3.81</td>\n",
       "    </tr>\n",
       "  </tbody>\n",
       "</table>\n",
       "<p>84 rows × 2 columns</p>\n",
       "</div>"
      ],
      "text/plain": [
       "     SAT   GPA\n",
       "0   1714  2.40\n",
       "1   1664  2.52\n",
       "2   1760  2.54\n",
       "3   1685  2.74\n",
       "4   1693  2.83\n",
       "..   ...   ...\n",
       "79  1936  3.71\n",
       "80  1810  3.71\n",
       "81  1987  3.73\n",
       "82  1962  3.76\n",
       "83  2050  3.81\n",
       "\n",
       "[84 rows x 2 columns]"
      ]
     },
     "execution_count": 2,
     "metadata": {},
     "output_type": "execute_result"
    }
   ],
   "source": [
    "df = pd.read_csv('/home/sad7_5407/Desktop/Sunbeam Material/ML/Assignment/SAT-GPA.csv')\n",
    "df"
   ]
  },
  {
   "cell_type": "markdown",
   "id": "259fab26-32ba-477e-ad9c-c5d26404db65",
   "metadata": {},
   "source": [
    "### EDA"
   ]
  },
  {
   "cell_type": "code",
   "execution_count": 3,
   "id": "23cc26f5-a2be-4d71-bc77-23410449449e",
   "metadata": {},
   "outputs": [
    {
     "name": "stdout",
     "output_type": "stream",
     "text": [
      "<class 'pandas.core.frame.DataFrame'>\n",
      "RangeIndex: 84 entries, 0 to 83\n",
      "Data columns (total 2 columns):\n",
      " #   Column  Non-Null Count  Dtype  \n",
      "---  ------  --------------  -----  \n",
      " 0   SAT     84 non-null     int64  \n",
      " 1   GPA     84 non-null     float64\n",
      "dtypes: float64(1), int64(1)\n",
      "memory usage: 1.4 KB\n"
     ]
    }
   ],
   "source": [
    "df.info()"
   ]
  },
  {
   "cell_type": "code",
   "execution_count": 4,
   "id": "084351d7-87dc-4cb0-8acc-c2bf0d62357e",
   "metadata": {},
   "outputs": [
    {
     "data": {
      "text/html": [
       "<div>\n",
       "<style scoped>\n",
       "    .dataframe tbody tr th:only-of-type {\n",
       "        vertical-align: middle;\n",
       "    }\n",
       "\n",
       "    .dataframe tbody tr th {\n",
       "        vertical-align: top;\n",
       "    }\n",
       "\n",
       "    .dataframe thead th {\n",
       "        text-align: right;\n",
       "    }\n",
       "</style>\n",
       "<table border=\"1\" class=\"dataframe\">\n",
       "  <thead>\n",
       "    <tr style=\"text-align: right;\">\n",
       "      <th></th>\n",
       "      <th>SAT</th>\n",
       "      <th>GPA</th>\n",
       "    </tr>\n",
       "  </thead>\n",
       "  <tbody>\n",
       "    <tr>\n",
       "      <th>count</th>\n",
       "      <td>84.000000</td>\n",
       "      <td>84.000000</td>\n",
       "    </tr>\n",
       "    <tr>\n",
       "      <th>mean</th>\n",
       "      <td>1845.273810</td>\n",
       "      <td>3.330238</td>\n",
       "    </tr>\n",
       "    <tr>\n",
       "      <th>std</th>\n",
       "      <td>104.530661</td>\n",
       "      <td>0.271617</td>\n",
       "    </tr>\n",
       "    <tr>\n",
       "      <th>min</th>\n",
       "      <td>1634.000000</td>\n",
       "      <td>2.400000</td>\n",
       "    </tr>\n",
       "    <tr>\n",
       "      <th>25%</th>\n",
       "      <td>1772.000000</td>\n",
       "      <td>3.190000</td>\n",
       "    </tr>\n",
       "    <tr>\n",
       "      <th>50%</th>\n",
       "      <td>1846.000000</td>\n",
       "      <td>3.380000</td>\n",
       "    </tr>\n",
       "    <tr>\n",
       "      <th>75%</th>\n",
       "      <td>1934.000000</td>\n",
       "      <td>3.502500</td>\n",
       "    </tr>\n",
       "    <tr>\n",
       "      <th>max</th>\n",
       "      <td>2050.000000</td>\n",
       "      <td>3.810000</td>\n",
       "    </tr>\n",
       "  </tbody>\n",
       "</table>\n",
       "</div>"
      ],
      "text/plain": [
       "               SAT        GPA\n",
       "count    84.000000  84.000000\n",
       "mean   1845.273810   3.330238\n",
       "std     104.530661   0.271617\n",
       "min    1634.000000   2.400000\n",
       "25%    1772.000000   3.190000\n",
       "50%    1846.000000   3.380000\n",
       "75%    1934.000000   3.502500\n",
       "max    2050.000000   3.810000"
      ]
     },
     "execution_count": 4,
     "metadata": {},
     "output_type": "execute_result"
    }
   ],
   "source": [
    "df.describe()"
   ]
  },
  {
   "cell_type": "markdown",
   "id": "8b1d7c08-ca77-4f21-9d22-6c0d47e0440c",
   "metadata": {},
   "source": [
    "### Pre-processing"
   ]
  },
  {
   "cell_type": "code",
   "execution_count": 5,
   "id": "a73b7c75-200d-4158-be66-3c831f8d74e7",
   "metadata": {},
   "outputs": [],
   "source": [
    "X = df['SAT']\n",
    "Y = df['GPA']"
   ]
  },
  {
   "cell_type": "code",
   "execution_count": 6,
   "id": "7f5f050a-648d-4f0b-b133-aa61a4d3c7fb",
   "metadata": {},
   "outputs": [],
   "source": [
    "from sklearn.model_selection import train_test_split\n",
    "\n",
    "x_train,x_test,y_train,y_test = train_test_split(X,Y, train_size=0.9)"
   ]
  },
  {
   "cell_type": "markdown",
   "id": "710a9f80-ce38-4bf7-b34d-024571014fdb",
   "metadata": {},
   "source": [
    "### Model Building"
   ]
  },
  {
   "cell_type": "code",
   "execution_count": 7,
   "id": "c6010be4-fa3d-4074-bf34-754c12cf39cf",
   "metadata": {},
   "outputs": [],
   "source": [
    "from tensorflow.keras import Sequential\n",
    "from tensorflow.keras.layers import Dense"
   ]
  },
  {
   "cell_type": "code",
   "execution_count": 15,
   "id": "07a30c50-2deb-4abe-a121-07be2dd6b8da",
   "metadata": {},
   "outputs": [],
   "source": [
    "model = Sequential(\n",
    "    [\n",
    "        Dense(units=5, input_shape=[1])\n",
    "    ]\n",
    ")\n",
    "\n",
    "# add an output layer\n",
    "model.add(Dense(units=1))"
   ]
  },
  {
   "cell_type": "code",
   "execution_count": 16,
   "id": "29b82082-7513-471d-adf6-f1edab4395af",
   "metadata": {},
   "outputs": [],
   "source": [
    "model.compile(optimizer='adam',loss='mean_absolute_error')"
   ]
  },
  {
   "cell_type": "code",
   "execution_count": 17,
   "id": "ea6b92de-212a-4432-83b8-fb7dda77e413",
   "metadata": {},
   "outputs": [
    {
     "name": "stdout",
     "output_type": "stream",
     "text": [
      "Epoch 1/100\n",
      "3/3 [==============================] - 0s 3ms/step - loss: 1267.8804\n",
      "Epoch 2/100\n",
      "3/3 [==============================] - 0s 3ms/step - loss: 1232.5242\n",
      "Epoch 3/100\n",
      "3/3 [==============================] - 0s 2ms/step - loss: 1197.0223\n",
      "Epoch 4/100\n",
      "3/3 [==============================] - 0s 3ms/step - loss: 1161.5985\n",
      "Epoch 5/100\n",
      "3/3 [==============================] - 0s 6ms/step - loss: 1126.2013\n",
      "Epoch 6/100\n",
      "3/3 [==============================] - 0s 5ms/step - loss: 1090.5902\n",
      "Epoch 7/100\n",
      "3/3 [==============================] - 0s 3ms/step - loss: 1055.1172\n",
      "Epoch 8/100\n",
      "3/3 [==============================] - 0s 3ms/step - loss: 1019.5308\n",
      "Epoch 9/100\n",
      "3/3 [==============================] - 0s 2ms/step - loss: 983.9106\n",
      "Epoch 10/100\n",
      "3/3 [==============================] - 0s 3ms/step - loss: 948.2709\n",
      "Epoch 11/100\n",
      "3/3 [==============================] - 0s 3ms/step - loss: 912.4479\n",
      "Epoch 12/100\n",
      "3/3 [==============================] - 0s 3ms/step - loss: 876.8544\n",
      "Epoch 13/100\n",
      "3/3 [==============================] - 0s 3ms/step - loss: 840.7886\n",
      "Epoch 14/100\n",
      "3/3 [==============================] - 0s 3ms/step - loss: 804.8976\n",
      "Epoch 15/100\n",
      "3/3 [==============================] - 0s 3ms/step - loss: 769.0609\n",
      "Epoch 16/100\n",
      "3/3 [==============================] - 0s 2ms/step - loss: 732.8091\n",
      "Epoch 17/100\n",
      "3/3 [==============================] - 0s 3ms/step - loss: 696.8254\n",
      "Epoch 18/100\n",
      "3/3 [==============================] - 0s 3ms/step - loss: 660.6181\n",
      "Epoch 19/100\n",
      "3/3 [==============================] - 0s 3ms/step - loss: 624.2961\n",
      "Epoch 20/100\n",
      "3/3 [==============================] - 0s 3ms/step - loss: 588.0837\n",
      "Epoch 21/100\n",
      "3/3 [==============================] - 0s 3ms/step - loss: 551.6193\n",
      "Epoch 22/100\n",
      "3/3 [==============================] - 0s 3ms/step - loss: 515.2654\n",
      "Epoch 23/100\n",
      "3/3 [==============================] - 0s 2ms/step - loss: 478.7124\n",
      "Epoch 24/100\n",
      "3/3 [==============================] - 0s 3ms/step - loss: 442.0890\n",
      "Epoch 25/100\n",
      "3/3 [==============================] - 0s 3ms/step - loss: 405.5439\n",
      "Epoch 26/100\n",
      "3/3 [==============================] - 0s 3ms/step - loss: 368.7934\n",
      "Epoch 27/100\n",
      "3/3 [==============================] - 0s 3ms/step - loss: 331.9978\n",
      "Epoch 28/100\n",
      "3/3 [==============================] - 0s 3ms/step - loss: 295.2119\n",
      "Epoch 29/100\n",
      "3/3 [==============================] - 0s 3ms/step - loss: 258.3171\n",
      "Epoch 30/100\n",
      "3/3 [==============================] - 0s 4ms/step - loss: 221.3339\n",
      "Epoch 31/100\n",
      "3/3 [==============================] - 0s 2ms/step - loss: 184.2922\n",
      "Epoch 32/100\n",
      "3/3 [==============================] - 0s 3ms/step - loss: 147.0923\n",
      "Epoch 33/100\n",
      "3/3 [==============================] - 0s 2ms/step - loss: 109.8853\n",
      "Epoch 34/100\n",
      "3/3 [==============================] - 0s 2ms/step - loss: 72.6560\n",
      "Epoch 35/100\n",
      "3/3 [==============================] - 0s 3ms/step - loss: 35.1931\n",
      "Epoch 36/100\n",
      "3/3 [==============================] - 0s 3ms/step - loss: 7.6383\n",
      "Epoch 37/100\n",
      "3/3 [==============================] - 0s 4ms/step - loss: 27.3326\n",
      "Epoch 38/100\n",
      "3/3 [==============================] - 0s 3ms/step - loss: 35.6786\n",
      "Epoch 39/100\n",
      "3/3 [==============================] - 0s 2ms/step - loss: 31.5346\n",
      "Epoch 40/100\n",
      "3/3 [==============================] - 0s 4ms/step - loss: 18.3922\n",
      "Epoch 41/100\n",
      "3/3 [==============================] - 0s 3ms/step - loss: 4.3975\n",
      "Epoch 42/100\n",
      "3/3 [==============================] - 0s 3ms/step - loss: 13.5882\n",
      "Epoch 43/100\n",
      "3/3 [==============================] - 0s 4ms/step - loss: 12.5455\n",
      "Epoch 44/100\n",
      "3/3 [==============================] - 0s 3ms/step - loss: 3.1414\n",
      "Epoch 45/100\n",
      "3/3 [==============================] - 0s 3ms/step - loss: 10.0259\n",
      "Epoch 46/100\n",
      "3/3 [==============================] - 0s 2ms/step - loss: 9.1495\n",
      "Epoch 47/100\n",
      "3/3 [==============================] - 0s 3ms/step - loss: 2.8951\n",
      "Epoch 48/100\n",
      "3/3 [==============================] - 0s 3ms/step - loss: 7.2761\n",
      "Epoch 49/100\n",
      "3/3 [==============================] - 0s 2ms/step - loss: 2.5476\n",
      "Epoch 50/100\n",
      "3/3 [==============================] - 0s 3ms/step - loss: 6.6672\n",
      "Epoch 51/100\n",
      "3/3 [==============================] - 0s 2ms/step - loss: 3.6087\n",
      "Epoch 52/100\n",
      "3/3 [==============================] - 0s 2ms/step - loss: 2.9635\n",
      "Epoch 53/100\n",
      "3/3 [==============================] - 0s 3ms/step - loss: 1.8188\n",
      "Epoch 54/100\n",
      "3/3 [==============================] - 0s 4ms/step - loss: 2.9629\n",
      "Epoch 55/100\n",
      "3/3 [==============================] - 0s 3ms/step - loss: 3.7719\n",
      "Epoch 56/100\n",
      "3/3 [==============================] - 0s 3ms/step - loss: 2.5452\n",
      "Epoch 57/100\n",
      "3/3 [==============================] - 0s 4ms/step - loss: 2.9151\n",
      "Epoch 58/100\n",
      "3/3 [==============================] - 0s 2ms/step - loss: 0.6837\n",
      "Epoch 59/100\n",
      "3/3 [==============================] - 0s 3ms/step - loss: 0.8129\n",
      "Epoch 60/100\n",
      "3/3 [==============================] - 0s 2ms/step - loss: 0.3615\n",
      "Epoch 61/100\n",
      "3/3 [==============================] - 0s 3ms/step - loss: 0.2890\n",
      "Epoch 62/100\n",
      "3/3 [==============================] - 0s 6ms/step - loss: 0.5893\n",
      "Epoch 63/100\n",
      "3/3 [==============================] - 0s 3ms/step - loss: 0.7529\n",
      "Epoch 64/100\n",
      "3/3 [==============================] - 0s 3ms/step - loss: 0.3039\n",
      "Epoch 65/100\n",
      "3/3 [==============================] - 0s 2ms/step - loss: 0.2693\n",
      "Epoch 66/100\n",
      "3/3 [==============================] - 0s 3ms/step - loss: 0.2810\n",
      "Epoch 67/100\n",
      "3/3 [==============================] - 0s 2ms/step - loss: 0.3369\n",
      "Epoch 68/100\n",
      "3/3 [==============================] - 0s 2ms/step - loss: 0.3682\n",
      "Epoch 69/100\n",
      "3/3 [==============================] - 0s 2ms/step - loss: 0.2584\n",
      "Epoch 70/100\n",
      "3/3 [==============================] - 0s 2ms/step - loss: 0.2632\n",
      "Epoch 71/100\n",
      "3/3 [==============================] - 0s 3ms/step - loss: 0.3378\n",
      "Epoch 72/100\n",
      "3/3 [==============================] - 0s 3ms/step - loss: 0.3250\n",
      "Epoch 73/100\n",
      "3/3 [==============================] - 0s 3ms/step - loss: 0.3258\n",
      "Epoch 74/100\n",
      "3/3 [==============================] - 0s 3ms/step - loss: 0.3509\n",
      "Epoch 75/100\n",
      "3/3 [==============================] - 0s 2ms/step - loss: 0.2926\n",
      "Epoch 76/100\n",
      "3/3 [==============================] - 0s 4ms/step - loss: 0.3012\n",
      "Epoch 77/100\n",
      "3/3 [==============================] - 0s 3ms/step - loss: 0.8227\n",
      "Epoch 78/100\n",
      "3/3 [==============================] - 0s 3ms/step - loss: 0.6724\n",
      "Epoch 79/100\n",
      "3/3 [==============================] - 0s 2ms/step - loss: 0.7246\n",
      "Epoch 80/100\n",
      "3/3 [==============================] - 0s 3ms/step - loss: 0.5265\n",
      "Epoch 81/100\n",
      "3/3 [==============================] - 0s 3ms/step - loss: 0.7925\n",
      "Epoch 82/100\n",
      "3/3 [==============================] - 0s 2ms/step - loss: 0.4783\n",
      "Epoch 83/100\n",
      "3/3 [==============================] - 0s 3ms/step - loss: 1.0209\n",
      "Epoch 84/100\n",
      "3/3 [==============================] - 0s 2ms/step - loss: 0.3843\n",
      "Epoch 85/100\n",
      "3/3 [==============================] - 0s 3ms/step - loss: 1.5601\n",
      "Epoch 86/100\n",
      "3/3 [==============================] - 0s 3ms/step - loss: 1.8123\n",
      "Epoch 87/100\n",
      "3/3 [==============================] - 0s 3ms/step - loss: 0.4977\n",
      "Epoch 88/100\n",
      "3/3 [==============================] - 0s 2ms/step - loss: 0.4827\n",
      "Epoch 89/100\n",
      "3/3 [==============================] - 0s 3ms/step - loss: 1.0573\n",
      "Epoch 90/100\n",
      "3/3 [==============================] - 0s 3ms/step - loss: 0.4667\n",
      "Epoch 91/100\n",
      "3/3 [==============================] - 0s 3ms/step - loss: 0.7609\n",
      "Epoch 92/100\n",
      "3/3 [==============================] - 0s 3ms/step - loss: 1.1060\n",
      "Epoch 93/100\n",
      "3/3 [==============================] - 0s 3ms/step - loss: 1.8230\n",
      "Epoch 94/100\n",
      "3/3 [==============================] - 0s 3ms/step - loss: 0.6851\n",
      "Epoch 95/100\n",
      "3/3 [==============================] - 0s 3ms/step - loss: 0.9978\n",
      "Epoch 96/100\n",
      "3/3 [==============================] - 0s 3ms/step - loss: 2.1944\n",
      "Epoch 97/100\n",
      "3/3 [==============================] - 0s 2ms/step - loss: 3.0971\n",
      "Epoch 98/100\n",
      "3/3 [==============================] - 0s 3ms/step - loss: 1.4684\n",
      "Epoch 99/100\n",
      "3/3 [==============================] - 0s 2ms/step - loss: 0.8505\n",
      "Epoch 100/100\n",
      "3/3 [==============================] - 0s 3ms/step - loss: 0.8679\n"
     ]
    },
    {
     "data": {
      "text/plain": [
       "<keras.src.callbacks.History at 0x7fe670198790>"
      ]
     },
     "execution_count": 17,
     "metadata": {},
     "output_type": "execute_result"
    }
   ],
   "source": [
    "model.fit(x_train,y_train,epochs=100)"
   ]
  },
  {
   "cell_type": "code",
   "execution_count": 18,
   "id": "b82720c0-905a-4ba0-a289-1bf827c1a9d7",
   "metadata": {},
   "outputs": [],
   "source": [
    "def evaluate_model(model):\n",
    "    y_pred = model.predict(x_test)\n",
    "    from sklearn.metrics import mean_absolute_error,mean_squared_error,r2_score\n",
    "    print(f'mae : {mean_absolute_error(y_test,y_pred)}')\n",
    "    print(f'mse : {mean_squared_error(y_test,y_pred)}')\n",
    "    print(f'rmse : {np.sqrt(mean_squared_error(y_test,y_pred))}')\n",
    "    print(f'r2 scroe : {r2_score(y_test,y_pred)}')"
   ]
  },
  {
   "cell_type": "code",
   "execution_count": 19,
   "id": "0f8581bb-7d51-4321-b0b4-227c2369a1d4",
   "metadata": {
    "scrolled": true
   },
   "outputs": [
    {
     "name": "stdout",
     "output_type": "stream",
     "text": [
      "1/1 [==============================] - 0s 26ms/step\n",
      "mae : 0.11981596522861057\n",
      "mse : 0.027130563069425746\n",
      "rmse : 0.1647135788859733\n",
      "r2 scroe : 0.42923079096579764\n"
     ]
    }
   ],
   "source": [
    "evaluate_model(model)"
   ]
  }
 ],
 "metadata": {
  "kernelspec": {
   "display_name": "Python 3 (ipykernel)",
   "language": "python",
   "name": "python3"
  },
  "language_info": {
   "codemirror_mode": {
    "name": "ipython",
    "version": 3
   },
   "file_extension": ".py",
   "mimetype": "text/x-python",
   "name": "python",
   "nbconvert_exporter": "python",
   "pygments_lexer": "ipython3",
   "version": "3.10.12"
  }
 },
 "nbformat": 4,
 "nbformat_minor": 5
}
